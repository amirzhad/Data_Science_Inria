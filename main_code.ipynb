{
 "cells": [
  {
   "cell_type": "code",
   "execution_count": 1,
   "metadata": {},
   "outputs": [],
   "source": [
    "# The imports\n",
    "import pandas as pd\n",
    "from sqlalchemy import create_engine\n",
    "# from fuzzywuzzy import fuzz\n",
    "from rapidfuzz import fuzz\n"
   ]
  },
  {
   "cell_type": "code",
   "execution_count": 2,
   "metadata": {},
   "outputs": [],
   "source": [
    "### constant values --------------\n",
    "thr_similarity = 90\n",
    "\n",
    "#******************************************************\n",
    "\n",
    "### The functions ---------------\n",
    "\n",
    "def is_same(r1, r2):\n",
    "    # this function takes two records and return true if they are similar\n",
    "    # similarity: using the NLP (Fuzzy string matching)\n",
    "    n_col = r1.size - 1  # -1 Bcoz we added a column (checked)\n",
    "    \n",
    "    # simple way\n",
    "    # return (sum(1*(r1==r2))*100/n_col) > thr_similarity\n",
    "    \n",
    "    # using fuzzy similarity\n",
    "    # comparing the columns one by one and add the similarity to s\n",
    "    s = 0\n",
    "    for i in range(1, n_col):\n",
    "        s += fuzz.token_sort_ratio(str(r1[i]), str(r2[i]))\n",
    "        # s += fuzz.ratio(str(r1[i]), str(r2[i]))\n",
    "        # s += fuzz.token_sort_ratio(r1[i], r2[i])\n",
    "\n",
    "    # at the end, the similarity will be averaged and return True if it is high enough\n",
    "    return (s / (n_col - 1)) > thr_similarity\n",
    "\n",
    "\n",
    "# *******************************************************\n",
    "\n",
    "def detect_duplicates(df_patient, df_pcr):\n",
    "    # this function takes a dataframe as a parameter and returns a new dataframe after removing the duplicates\n",
    "\n",
    "    # new data frame\n",
    "    new_df = pd.DataFrame(columns=df_patient.columns)\n",
    "    df_p = df_patient.copy()\n",
    "\n",
    "    # adding a column, indicating if this record is checked or not\n",
    "    df_p['checked'] = False\n",
    "\n",
    "    # for index, r1 in df_p.iterrows():\n",
    "    for index in range(0, len(df_p)):\n",
    "        print(index)\n",
    "        r1 = df_p.iloc[index]\n",
    "\n",
    "        # we checked this record\n",
    "        df_p.at[index, 'checked'] = True\n",
    "\n",
    "        # create a temporary dataframe containing all similar records with r1\n",
    "        df_tmp = pd.DataFrame(columns=df_p.columns)\n",
    "        df_tmp = df_tmp.append(r1)\n",
    "\n",
    "        # creating a list containing the ID ('patient_id') of all similar records\n",
    "        l_patient_id = [df_p.iloc[index, 0]]\n",
    "\n",
    "        # for index2, r2 in df_p.iterrows():\n",
    "        for index2 in range(index+1, len(df_p)):\n",
    "\n",
    "            r2 = df_p.iloc[index2]\n",
    "\n",
    "            # if it was not checked before\n",
    "            if not df_p.at[index2, 'checked']:\n",
    "                if is_same(r1, r2):  # if r1 and r2 are similar\n",
    "                #if (sum(1*(r1==r2))*100/12) > thr_similarity:\n",
    "                    # we checked this record\n",
    "                    df_p.at[index2, 'checked'] = True\n",
    "\n",
    "                    # add the ID to the list\n",
    "                    l_patient_id.append(df_p.iloc[index2, 0])\n",
    "\n",
    "                    # add r2 to df_tmp\n",
    "                    df_tmp = df_tmp.append(r2)\n",
    "\n",
    "                    # throw out the duplicate from main dataframe\n",
    "        #                     df_p.drop([index2])\n",
    "\n",
    "        # find the true pcr value for current record (from pcr data)\n",
    "        if df_pcr[df_pcr['patient_id'].isin(l_patient_id)].empty:\n",
    "            # if we did not find the patient pcr\n",
    "            pcr = 'NaN'\n",
    "            patient_id = l_patient_id[0]\n",
    "        elif len(l_patient_id) == 1:\n",
    "            # if we found the patient pcr but there is only one record id\n",
    "            pcr = df_pcr[df_pcr['patient_id'].isin(l_patient_id)].iloc[0]['pcr']\n",
    "            patient_id = l_patient_id[0]\n",
    "        else:\n",
    "            pcr = df_pcr[df_pcr['patient_id'].isin(l_patient_id)].mode().iloc[0]['pcr']\n",
    "            patient_id = df_pcr[(df_pcr['patient_id'].isin(l_patient_id)) & (df_pcr['pcr'] == pcr)].iloc[0, 0]\n",
    "\n",
    "        # now from all similar record, pick the most common one and replace it with r1 (delete r1 and add the most common one)\n",
    "        # adding_data = df_tmp.mode().iloc[0]\n",
    "        adding_data = df_tmp.mode().iloc[0, :]\n",
    "        adding_data['pcr'] = pcr\n",
    "        adding_data['patient_id'] = patient_id\n",
    "\n",
    "        # df_p.drop([index])\n",
    "        new_df = new_df.append(adding_data)\n",
    "        # df_p.append(adding_data)\n",
    "\n",
    "    new_df.drop(columns=['checked'])\n",
    "    new_df.reset_index(drop=True)\n",
    "    return new_df"
   ]
  },
  {
   "cell_type": "code",
   "execution_count": 3,
   "metadata": {},
   "outputs": [],
   "source": [
    "### Main code start from here ---------------\n",
    "\n",
    "# reading the dataframes\n",
    "engine = create_engine('sqlite:///data.db' , echo=False)\n",
    "con = engine.connect()\n",
    "df_patient = pd.read_sql ( 'select * from patient' , con = con )\n",
    "df_pcr = pd.read_sql( 'select * from test' , con = con )\n",
    "con.close()"
   ]
  },
  {
   "cell_type": "code",
   "execution_count": 56,
   "metadata": {},
   "outputs": [
    {
     "name": "stdout",
     "output_type": "stream",
     "text": [
      "0\n"
     ]
    },
    {
     "ename": "UnboundLocalError",
     "evalue": "local variable 'i' referenced before assignment",
     "output_type": "error",
     "traceback": [
      "\u001b[1;31m---------------------------------------------------------------------------\u001b[0m",
      "\u001b[1;31mUnboundLocalError\u001b[0m                         Traceback (most recent call last)",
      "\u001b[1;32m<ipython-input-56-d8991284ca08>\u001b[0m in \u001b[0;36m<module>\u001b[1;34m\u001b[0m\n\u001b[1;32m----> 1\u001b[1;33m \u001b[0mx\u001b[0m \u001b[1;33m=\u001b[0m \u001b[0mdetect_duplicates\u001b[0m\u001b[1;33m(\u001b[0m\u001b[0mdf_patient\u001b[0m\u001b[1;33m,\u001b[0m \u001b[0mdf_pcr\u001b[0m\u001b[1;33m)\u001b[0m\u001b[1;33m\u001b[0m\u001b[1;33m\u001b[0m\u001b[0m\n\u001b[0m",
      "\u001b[1;32m<ipython-input-54-5e82c74d1fb2>\u001b[0m in \u001b[0;36mdetect_duplicates\u001b[1;34m(df_patient, df_pcr)\u001b[0m\n\u001b[0;32m     62\u001b[0m             \u001b[1;31m# if it was not checked before\u001b[0m\u001b[1;33m\u001b[0m\u001b[1;33m\u001b[0m\u001b[1;33m\u001b[0m\u001b[0m\n\u001b[0;32m     63\u001b[0m             \u001b[1;32mif\u001b[0m \u001b[1;32mnot\u001b[0m \u001b[0mdf_p\u001b[0m\u001b[1;33m.\u001b[0m\u001b[0mat\u001b[0m\u001b[1;33m[\u001b[0m\u001b[0mindex2\u001b[0m\u001b[1;33m,\u001b[0m \u001b[1;34m'checked'\u001b[0m\u001b[1;33m]\u001b[0m\u001b[1;33m:\u001b[0m\u001b[1;33m\u001b[0m\u001b[1;33m\u001b[0m\u001b[0m\n\u001b[1;32m---> 64\u001b[1;33m                 \u001b[1;32mif\u001b[0m \u001b[0mis_same\u001b[0m\u001b[1;33m(\u001b[0m\u001b[0mr1\u001b[0m\u001b[1;33m,\u001b[0m \u001b[0mr2\u001b[0m\u001b[1;33m)\u001b[0m\u001b[1;33m:\u001b[0m  \u001b[1;31m# if r1 and r2 are similar\u001b[0m\u001b[1;33m\u001b[0m\u001b[1;33m\u001b[0m\u001b[0m\n\u001b[0m\u001b[0;32m     65\u001b[0m                     \u001b[1;31m# we checked this record\u001b[0m\u001b[1;33m\u001b[0m\u001b[1;33m\u001b[0m\u001b[1;33m\u001b[0m\u001b[0m\n\u001b[0;32m     66\u001b[0m                     \u001b[0mdf_p\u001b[0m\u001b[1;33m.\u001b[0m\u001b[0mat\u001b[0m\u001b[1;33m[\u001b[0m\u001b[0mindex2\u001b[0m\u001b[1;33m,\u001b[0m \u001b[1;34m'checked'\u001b[0m\u001b[1;33m]\u001b[0m \u001b[1;33m=\u001b[0m \u001b[1;32mTrue\u001b[0m\u001b[1;33m\u001b[0m\u001b[1;33m\u001b[0m\u001b[0m\n",
      "\u001b[1;32m<ipython-input-54-5e82c74d1fb2>\u001b[0m in \u001b[0;36mis_same\u001b[1;34m(r1, r2)\u001b[0m\n\u001b[0;32m     13\u001b[0m     \u001b[1;31m# simple way\u001b[0m\u001b[1;33m\u001b[0m\u001b[1;33m\u001b[0m\u001b[1;33m\u001b[0m\u001b[0m\n\u001b[0;32m     14\u001b[0m     \u001b[0ms\u001b[0m \u001b[1;33m=\u001b[0m \u001b[1;36m0\u001b[0m\u001b[1;33m\u001b[0m\u001b[1;33m\u001b[0m\u001b[0m\n\u001b[1;32m---> 15\u001b[1;33m     \u001b[0ms\u001b[0m \u001b[1;33m+=\u001b[0m \u001b[1;36m1\u001b[0m\u001b[1;33m*\u001b[0m\u001b[1;33m(\u001b[0m\u001b[0mr1\u001b[0m\u001b[1;33m[\u001b[0m\u001b[0mi\u001b[0m\u001b[1;33m]\u001b[0m\u001b[1;33m==\u001b[0m\u001b[0mr2\u001b[0m\u001b[1;33m[\u001b[0m\u001b[0mi\u001b[0m\u001b[1;33m]\u001b[0m\u001b[1;33m)\u001b[0m\u001b[1;33m\u001b[0m\u001b[1;33m\u001b[0m\u001b[0m\n\u001b[0m\u001b[0;32m     16\u001b[0m     \u001b[1;32mreturn\u001b[0m \u001b[1;33m(\u001b[0m\u001b[0msum\u001b[0m\u001b[1;33m(\u001b[0m\u001b[1;36m1\u001b[0m\u001b[1;33m*\u001b[0m\u001b[1;33m(\u001b[0m\u001b[0mr1\u001b[0m\u001b[1;33m==\u001b[0m\u001b[0mr2\u001b[0m\u001b[1;33m)\u001b[0m\u001b[1;33m)\u001b[0m\u001b[1;33m/\u001b[0m\u001b[0mn_col\u001b[0m\u001b[1;33m)\u001b[0m \u001b[1;33m>\u001b[0m \u001b[0mthr_similarity\u001b[0m\u001b[1;33m\u001b[0m\u001b[1;33m\u001b[0m\u001b[0m\n\u001b[0;32m     17\u001b[0m \u001b[1;33m\u001b[0m\u001b[0m\n",
      "\u001b[1;31mUnboundLocalError\u001b[0m: local variable 'i' referenced before assignment"
     ]
    }
   ],
   "source": [
    "x = detect_duplicates(df_patient, df_pcr)"
   ]
  },
  {
   "cell_type": "code",
   "execution_count": 6,
   "metadata": {},
   "outputs": [
    {
     "data": {
      "text/html": [
       "<div>\n",
       "<style scoped>\n",
       "    .dataframe tbody tr th:only-of-type {\n",
       "        vertical-align: middle;\n",
       "    }\n",
       "\n",
       "    .dataframe tbody tr th {\n",
       "        vertical-align: top;\n",
       "    }\n",
       "\n",
       "    .dataframe thead th {\n",
       "        text-align: right;\n",
       "    }\n",
       "</style>\n",
       "<table border=\"1\" class=\"dataframe\">\n",
       "  <thead>\n",
       "    <tr style=\"text-align: right;\">\n",
       "      <th></th>\n",
       "      <th>patient_id</th>\n",
       "      <th>given_name</th>\n",
       "      <th>surname</th>\n",
       "      <th>street_number</th>\n",
       "      <th>address_1</th>\n",
       "      <th>suburb</th>\n",
       "      <th>postcode</th>\n",
       "      <th>state</th>\n",
       "      <th>date_of_birth</th>\n",
       "      <th>age</th>\n",
       "      <th>phone_number</th>\n",
       "      <th>address_2</th>\n",
       "    </tr>\n",
       "  </thead>\n",
       "  <tbody>\n",
       "    <tr>\n",
       "      <th>0</th>\n",
       "      <td>221958</td>\n",
       "      <td>matisse</td>\n",
       "      <td>clarke</td>\n",
       "      <td>13.0</td>\n",
       "      <td>rene street</td>\n",
       "      <td>ellenbrook</td>\n",
       "      <td>2527</td>\n",
       "      <td>wa</td>\n",
       "      <td>19710708.0</td>\n",
       "      <td>32.0</td>\n",
       "      <td>08 86018809</td>\n",
       "      <td>westella</td>\n",
       "    </tr>\n",
       "    <tr>\n",
       "      <th>1</th>\n",
       "      <td>771155</td>\n",
       "      <td>joshua</td>\n",
       "      <td>elrick</td>\n",
       "      <td>23.0</td>\n",
       "      <td>andrea place</td>\n",
       "      <td>east preston</td>\n",
       "      <td>2074</td>\n",
       "      <td>nsw</td>\n",
       "      <td>19120921.0</td>\n",
       "      <td>34.0</td>\n",
       "      <td>02 97793152</td>\n",
       "      <td>foxdown</td>\n",
       "    </tr>\n",
       "    <tr>\n",
       "      <th>2</th>\n",
       "      <td>231932</td>\n",
       "      <td>alice</td>\n",
       "      <td>conboy</td>\n",
       "      <td>35.0</td>\n",
       "      <td>mountain circuit</td>\n",
       "      <td>prospect</td>\n",
       "      <td>2305</td>\n",
       "      <td>nsw</td>\n",
       "      <td>19810905.0</td>\n",
       "      <td>22.0</td>\n",
       "      <td>02 20403934</td>\n",
       "      <td>None</td>\n",
       "    </tr>\n",
       "    <tr>\n",
       "      <th>3</th>\n",
       "      <td>465838</td>\n",
       "      <td>sienna</td>\n",
       "      <td>craswell</td>\n",
       "      <td>39.0</td>\n",
       "      <td>cumberlegeicrescent</td>\n",
       "      <td>henty</td>\n",
       "      <td>3620</td>\n",
       "      <td>wa</td>\n",
       "      <td>19840809.0</td>\n",
       "      <td>30.0</td>\n",
       "      <td>02 62832318</td>\n",
       "      <td>jodane</td>\n",
       "    </tr>\n",
       "    <tr>\n",
       "      <th>4</th>\n",
       "      <td>359178</td>\n",
       "      <td>joshua</td>\n",
       "      <td>bastiaans</td>\n",
       "      <td>144.0</td>\n",
       "      <td>lowrie street</td>\n",
       "      <td>campbell town</td>\n",
       "      <td>4051</td>\n",
       "      <td>nsw</td>\n",
       "      <td>19340430.0</td>\n",
       "      <td>31.0</td>\n",
       "      <td>03 69359594</td>\n",
       "      <td>None</td>\n",
       "    </tr>\n",
       "    <tr>\n",
       "      <th>...</th>\n",
       "      <td>...</td>\n",
       "      <td>...</td>\n",
       "      <td>...</td>\n",
       "      <td>...</td>\n",
       "      <td>...</td>\n",
       "      <td>...</td>\n",
       "      <td>...</td>\n",
       "      <td>...</td>\n",
       "      <td>...</td>\n",
       "      <td>...</td>\n",
       "      <td>...</td>\n",
       "      <td>...</td>\n",
       "    </tr>\n",
       "    <tr>\n",
       "      <th>19995</th>\n",
       "      <td>368617</td>\n",
       "      <td>abby</td>\n",
       "      <td>None</td>\n",
       "      <td>19.0</td>\n",
       "      <td>john cleland crescent</td>\n",
       "      <td>boyne island</td>\n",
       "      <td>2290</td>\n",
       "      <td>nsw</td>\n",
       "      <td>19570210.0</td>\n",
       "      <td>NaN</td>\n",
       "      <td>02 92489054</td>\n",
       "      <td>glenmore</td>\n",
       "    </tr>\n",
       "    <tr>\n",
       "      <th>19996</th>\n",
       "      <td>796658</td>\n",
       "      <td>dale</td>\n",
       "      <td>priest</td>\n",
       "      <td>19.0</td>\n",
       "      <td>bellchambers crescent</td>\n",
       "      <td>hoppers crossing</td>\n",
       "      <td>3033</td>\n",
       "      <td>wa</td>\n",
       "      <td>19590619.0</td>\n",
       "      <td>31.0</td>\n",
       "      <td>07 20549476</td>\n",
       "      <td>None</td>\n",
       "    </tr>\n",
       "    <tr>\n",
       "      <th>19997</th>\n",
       "      <td>511885</td>\n",
       "      <td>alessia</td>\n",
       "      <td>mawlai</td>\n",
       "      <td>4.0</td>\n",
       "      <td>miller street</td>\n",
       "      <td>smithfield</td>\n",
       "      <td>3616</td>\n",
       "      <td>tas</td>\n",
       "      <td>NaN</td>\n",
       "      <td>26.0</td>\n",
       "      <td>03 83466737</td>\n",
       "      <td>None</td>\n",
       "    </tr>\n",
       "    <tr>\n",
       "      <th>19998</th>\n",
       "      <td>985932</td>\n",
       "      <td>hannah</td>\n",
       "      <td>mason</td>\n",
       "      <td>1.0</td>\n",
       "      <td>halligan place</td>\n",
       "      <td>beaumaris</td>\n",
       "      <td>2443</td>\n",
       "      <td>wa</td>\n",
       "      <td>19140304.0</td>\n",
       "      <td>25.0</td>\n",
       "      <td>04 41125514</td>\n",
       "      <td>None</td>\n",
       "    </tr>\n",
       "    <tr>\n",
       "      <th>19999</th>\n",
       "      <td>925217</td>\n",
       "      <td>jack</td>\n",
       "      <td>mcveigh</td>\n",
       "      <td>5.0</td>\n",
       "      <td>alinda place</td>\n",
       "      <td>thornlands</td>\n",
       "      <td>4350</td>\n",
       "      <td>nsw</td>\n",
       "      <td>19230521.0</td>\n",
       "      <td>26.0</td>\n",
       "      <td>07 52535106</td>\n",
       "      <td>None</td>\n",
       "    </tr>\n",
       "  </tbody>\n",
       "</table>\n",
       "<p>20000 rows × 12 columns</p>\n",
       "</div>"
      ],
      "text/plain": [
       "       patient_id given_name    surname  street_number              address_1  \\\n",
       "0          221958    matisse     clarke           13.0            rene street   \n",
       "1          771155     joshua     elrick           23.0           andrea place   \n",
       "2          231932      alice     conboy           35.0       mountain circuit   \n",
       "3          465838     sienna   craswell           39.0    cumberlegeicrescent   \n",
       "4          359178     joshua  bastiaans          144.0          lowrie street   \n",
       "...           ...        ...        ...            ...                    ...   \n",
       "19995      368617       abby       None           19.0  john cleland crescent   \n",
       "19996      796658       dale     priest           19.0  bellchambers crescent   \n",
       "19997      511885    alessia     mawlai            4.0          miller street   \n",
       "19998      985932     hannah      mason            1.0         halligan place   \n",
       "19999      925217       jack    mcveigh            5.0           alinda place   \n",
       "\n",
       "                 suburb postcode state  date_of_birth   age phone_number  \\\n",
       "0            ellenbrook     2527    wa     19710708.0  32.0  08 86018809   \n",
       "1          east preston     2074   nsw     19120921.0  34.0  02 97793152   \n",
       "2              prospect     2305   nsw     19810905.0  22.0  02 20403934   \n",
       "3                 henty     3620    wa     19840809.0  30.0  02 62832318   \n",
       "4         campbell town     4051   nsw     19340430.0  31.0  03 69359594   \n",
       "...                 ...      ...   ...            ...   ...          ...   \n",
       "19995      boyne island     2290   nsw     19570210.0   NaN  02 92489054   \n",
       "19996  hoppers crossing     3033    wa     19590619.0  31.0  07 20549476   \n",
       "19997        smithfield     3616   tas            NaN  26.0  03 83466737   \n",
       "19998         beaumaris     2443    wa     19140304.0  25.0  04 41125514   \n",
       "19999        thornlands     4350   nsw     19230521.0  26.0  07 52535106   \n",
       "\n",
       "      address_2  \n",
       "0      westella  \n",
       "1       foxdown  \n",
       "2          None  \n",
       "3        jodane  \n",
       "4          None  \n",
       "...         ...  \n",
       "19995  glenmore  \n",
       "19996      None  \n",
       "19997      None  \n",
       "19998      None  \n",
       "19999      None  \n",
       "\n",
       "[20000 rows x 12 columns]"
      ]
     },
     "execution_count": 6,
     "metadata": {},
     "output_type": "execute_result"
    }
   ],
   "source": [
    "df_patient"
   ]
  },
  {
   "cell_type": "code",
   "execution_count": 7,
   "metadata": {},
   "outputs": [
    {
     "data": {
      "text/html": [
       "<div>\n",
       "<style scoped>\n",
       "    .dataframe tbody tr th:only-of-type {\n",
       "        vertical-align: middle;\n",
       "    }\n",
       "\n",
       "    .dataframe tbody tr th {\n",
       "        vertical-align: top;\n",
       "    }\n",
       "\n",
       "    .dataframe thead th {\n",
       "        text-align: right;\n",
       "    }\n",
       "</style>\n",
       "<table border=\"1\" class=\"dataframe\">\n",
       "  <thead>\n",
       "    <tr style=\"text-align: right;\">\n",
       "      <th></th>\n",
       "      <th>patient_id</th>\n",
       "      <th>pcr</th>\n",
       "    </tr>\n",
       "  </thead>\n",
       "  <tbody>\n",
       "    <tr>\n",
       "      <th>0</th>\n",
       "      <td>653091</td>\n",
       "      <td>N</td>\n",
       "    </tr>\n",
       "    <tr>\n",
       "      <th>1</th>\n",
       "      <td>347667</td>\n",
       "      <td>Negative</td>\n",
       "    </tr>\n",
       "    <tr>\n",
       "      <th>2</th>\n",
       "      <td>708481</td>\n",
       "      <td>Positive</td>\n",
       "    </tr>\n",
       "    <tr>\n",
       "      <th>3</th>\n",
       "      <td>148825</td>\n",
       "      <td>Negative</td>\n",
       "    </tr>\n",
       "    <tr>\n",
       "      <th>4</th>\n",
       "      <td>150081</td>\n",
       "      <td>Negative</td>\n",
       "    </tr>\n",
       "    <tr>\n",
       "      <th>...</th>\n",
       "      <td>...</td>\n",
       "      <td>...</td>\n",
       "    </tr>\n",
       "    <tr>\n",
       "      <th>8795</th>\n",
       "      <td>249457</td>\n",
       "      <td>N</td>\n",
       "    </tr>\n",
       "    <tr>\n",
       "      <th>8796</th>\n",
       "      <td>279689</td>\n",
       "      <td>Positive</td>\n",
       "    </tr>\n",
       "    <tr>\n",
       "      <th>8797</th>\n",
       "      <td>975612</td>\n",
       "      <td>N</td>\n",
       "    </tr>\n",
       "    <tr>\n",
       "      <th>8798</th>\n",
       "      <td>884429</td>\n",
       "      <td>Positive</td>\n",
       "    </tr>\n",
       "    <tr>\n",
       "      <th>8799</th>\n",
       "      <td>272409</td>\n",
       "      <td>Negative</td>\n",
       "    </tr>\n",
       "  </tbody>\n",
       "</table>\n",
       "<p>8800 rows × 2 columns</p>\n",
       "</div>"
      ],
      "text/plain": [
       "      patient_id       pcr\n",
       "0         653091         N\n",
       "1         347667  Negative\n",
       "2         708481  Positive\n",
       "3         148825  Negative\n",
       "4         150081  Negative\n",
       "...          ...       ...\n",
       "8795      249457         N\n",
       "8796      279689  Positive\n",
       "8797      975612         N\n",
       "8798      884429  Positive\n",
       "8799      272409  Negative\n",
       "\n",
       "[8800 rows x 2 columns]"
      ]
     },
     "execution_count": 7,
     "metadata": {},
     "output_type": "execute_result"
    }
   ],
   "source": [
    "df_pcr"
   ]
  },
  {
   "cell_type": "code",
   "execution_count": 8,
   "metadata": {},
   "outputs": [
    {
     "data": {
      "text/plain": [
       "patient_id    8765\n",
       "pcr              4\n",
       "dtype: int64"
      ]
     },
     "execution_count": 8,
     "metadata": {},
     "output_type": "execute_result"
    }
   ],
   "source": [
    "df_pcr.nunique()"
   ]
  },
  {
   "cell_type": "code",
   "execution_count": 9,
   "metadata": {},
   "outputs": [
    {
     "data": {
      "text/plain": [
       "array(['N', 'Negative', 'Positive', 'P'], dtype=object)"
      ]
     },
     "execution_count": 9,
     "metadata": {},
     "output_type": "execute_result"
    }
   ],
   "source": [
    "df_pcr.pcr.unique()"
   ]
  },
  {
   "cell_type": "code",
   "execution_count": 10,
   "metadata": {},
   "outputs": [
    {
     "data": {
      "text/html": [
       "<div>\n",
       "<style scoped>\n",
       "    .dataframe tbody tr th:only-of-type {\n",
       "        vertical-align: middle;\n",
       "    }\n",
       "\n",
       "    .dataframe tbody tr th {\n",
       "        vertical-align: top;\n",
       "    }\n",
       "\n",
       "    .dataframe thead th {\n",
       "        text-align: right;\n",
       "    }\n",
       "</style>\n",
       "<table border=\"1\" class=\"dataframe\">\n",
       "  <thead>\n",
       "    <tr style=\"text-align: right;\">\n",
       "      <th></th>\n",
       "      <th>patient_id</th>\n",
       "      <th>pcr</th>\n",
       "    </tr>\n",
       "  </thead>\n",
       "  <tbody>\n",
       "    <tr>\n",
       "      <th>2</th>\n",
       "      <td>708481</td>\n",
       "      <td>Positive</td>\n",
       "    </tr>\n",
       "    <tr>\n",
       "      <th>7</th>\n",
       "      <td>755915</td>\n",
       "      <td>P</td>\n",
       "    </tr>\n",
       "    <tr>\n",
       "      <th>11</th>\n",
       "      <td>466326</td>\n",
       "      <td>Positive</td>\n",
       "    </tr>\n",
       "    <tr>\n",
       "      <th>15</th>\n",
       "      <td>884141</td>\n",
       "      <td>Positive</td>\n",
       "    </tr>\n",
       "    <tr>\n",
       "      <th>16</th>\n",
       "      <td>440459</td>\n",
       "      <td>Positive</td>\n",
       "    </tr>\n",
       "    <tr>\n",
       "      <th>...</th>\n",
       "      <td>...</td>\n",
       "      <td>...</td>\n",
       "    </tr>\n",
       "    <tr>\n",
       "      <th>8777</th>\n",
       "      <td>116375</td>\n",
       "      <td>Positive</td>\n",
       "    </tr>\n",
       "    <tr>\n",
       "      <th>8781</th>\n",
       "      <td>872592</td>\n",
       "      <td>P</td>\n",
       "    </tr>\n",
       "    <tr>\n",
       "      <th>8786</th>\n",
       "      <td>541157</td>\n",
       "      <td>P</td>\n",
       "    </tr>\n",
       "    <tr>\n",
       "      <th>8796</th>\n",
       "      <td>279689</td>\n",
       "      <td>Positive</td>\n",
       "    </tr>\n",
       "    <tr>\n",
       "      <th>8798</th>\n",
       "      <td>884429</td>\n",
       "      <td>Positive</td>\n",
       "    </tr>\n",
       "  </tbody>\n",
       "</table>\n",
       "<p>2184 rows × 2 columns</p>\n",
       "</div>"
      ],
      "text/plain": [
       "      patient_id       pcr\n",
       "2         708481  Positive\n",
       "7         755915         P\n",
       "11        466326  Positive\n",
       "15        884141  Positive\n",
       "16        440459  Positive\n",
       "...          ...       ...\n",
       "8777      116375  Positive\n",
       "8781      872592         P\n",
       "8786      541157         P\n",
       "8796      279689  Positive\n",
       "8798      884429  Positive\n",
       "\n",
       "[2184 rows x 2 columns]"
      ]
     },
     "execution_count": 10,
     "metadata": {},
     "output_type": "execute_result"
    }
   ],
   "source": [
    "df_pcr[(df_pcr['pcr']=='Positive')|(df_pcr['pcr']=='P')]"
   ]
  },
  {
   "cell_type": "code",
   "execution_count": 11,
   "metadata": {},
   "outputs": [
    {
     "ename": "NameError",
     "evalue": "name 'new_df' is not defined",
     "output_type": "error",
     "traceback": [
      "\u001b[1;31m---------------------------------------------------------------------------\u001b[0m",
      "\u001b[1;31mNameError\u001b[0m                                 Traceback (most recent call last)",
      "\u001b[1;32m<ipython-input-11-37061ad753e5>\u001b[0m in \u001b[0;36m<module>\u001b[1;34m\u001b[0m\n\u001b[0;32m      1\u001b[0m \u001b[1;31m# remove data that the pcr are nan\u001b[0m\u001b[1;33m\u001b[0m\u001b[1;33m\u001b[0m\u001b[1;33m\u001b[0m\u001b[0m\n\u001b[1;32m----> 2\u001b[1;33m \u001b[0mnew_df2\u001b[0m \u001b[1;33m=\u001b[0m \u001b[0mnew_df\u001b[0m\u001b[1;33m[\u001b[0m\u001b[0mnew_df\u001b[0m\u001b[1;33m.\u001b[0m\u001b[0mpcr\u001b[0m \u001b[1;33m!=\u001b[0m \u001b[1;34m'NaN'\u001b[0m\u001b[1;33m]\u001b[0m\u001b[1;33m\u001b[0m\u001b[1;33m\u001b[0m\u001b[0m\n\u001b[0m\u001b[0;32m      3\u001b[0m \u001b[1;33m\u001b[0m\u001b[0m\n\u001b[0;32m      4\u001b[0m \u001b[0mtotal_clean_records\u001b[0m \u001b[1;33m=\u001b[0m \u001b[0mlen\u001b[0m\u001b[1;33m(\u001b[0m\u001b[0mnew_df2\u001b[0m\u001b[1;33m)\u001b[0m\u001b[1;33m\u001b[0m\u001b[1;33m\u001b[0m\u001b[0m\n\u001b[0;32m      5\u001b[0m \u001b[0mtotal_positive\u001b[0m \u001b[1;33m=\u001b[0m \u001b[0mnew_df2\u001b[0m\u001b[1;33m[\u001b[0m\u001b[1;33m(\u001b[0m\u001b[0mnew_df2\u001b[0m\u001b[1;33m[\u001b[0m\u001b[1;34m'pcr'\u001b[0m\u001b[1;33m]\u001b[0m\u001b[1;33m==\u001b[0m\u001b[1;34m'Positive'\u001b[0m\u001b[1;33m)\u001b[0m\u001b[1;33m|\u001b[0m\u001b[1;33m(\u001b[0m\u001b[0mnew_df2\u001b[0m\u001b[1;33m[\u001b[0m\u001b[1;34m'pcr'\u001b[0m\u001b[1;33m]\u001b[0m\u001b[1;33m==\u001b[0m\u001b[1;34m'P'\u001b[0m\u001b[1;33m)\u001b[0m\u001b[1;33m]\u001b[0m\u001b[1;33m\u001b[0m\u001b[1;33m\u001b[0m\u001b[0m\n",
      "\u001b[1;31mNameError\u001b[0m: name 'new_df' is not defined"
     ]
    }
   ],
   "source": [
    "# remove data that the pcr are nan\n",
    "new_df2 = new_df[new_df.pcr != 'NaN']\n",
    "\n",
    "total_clean_records = len(new_df2)\n",
    "total_positive = new_df2[(new_df2['pcr']=='Positive')|(new_df2['pcr']=='P')]\n",
    "p_per = total_positive * 100 / total_clean_records\n",
    "\n",
    "print('Total number of positive cases: ', total_positive, ' out of ', total_clean_records)\n",
    "print('percentage of positive cases: ', p_per, '%')\n",
    "\n"
   ]
  },
  {
   "cell_type": "code",
   "execution_count": 12,
   "metadata": {},
   "outputs": [
    {
     "data": {
      "text/plain": [
       "patient_id       19798\n",
       "given_name        1171\n",
       "surname           4273\n",
       "street_number      834\n",
       "address_1         4326\n",
       "suburb            2925\n",
       "postcode          2021\n",
       "state              102\n",
       "date_of_birth    13654\n",
       "age                 58\n",
       "phone_number     17916\n",
       "address_2         3460\n",
       "dtype: int64"
      ]
     },
     "execution_count": 12,
     "metadata": {},
     "output_type": "execute_result"
    }
   ],
   "source": [
    "df_patient.nunique()"
   ]
  },
  {
   "cell_type": "code",
   "execution_count": 13,
   "metadata": {},
   "outputs": [
    {
     "data": {
      "text/plain": [
       "29.0    1036\n",
       "31.0    1031\n",
       "30.0    1017\n",
       "28.0    1016\n",
       "32.0     959\n",
       "27.0     952\n",
       "33.0     900\n",
       "26.0     840\n",
       "25.0     725\n",
       "34.0     696\n",
       "Name: age, dtype: int64"
      ]
     },
     "execution_count": 13,
     "metadata": {},
     "output_type": "execute_result"
    }
   ],
   "source": [
    "df_patient['age'].value_counts().nlargest(10)"
   ]
  },
  {
   "cell_type": "code",
   "execution_count": 14,
   "metadata": {},
   "outputs": [
    {
     "data": {
      "text/plain": [
       "nsw    6143\n",
       "vic    4352\n",
       "qld    3516\n",
       "wa     1580\n",
       "sa     1391\n",
       "tas     507\n",
       "act     250\n",
       "nt      132\n",
       "nss       7\n",
       "ns        6\n",
       "Name: state, dtype: int64"
      ]
     },
     "execution_count": 14,
     "metadata": {},
     "output_type": "execute_result"
    }
   ],
   "source": [
    "df_patient['state'].value_counts().nlargest(10)"
   ]
  },
  {
   "cell_type": "code",
   "execution_count": 15,
   "metadata": {},
   "outputs": [
    {
     "data": {
      "text/plain": [
       "<matplotlib.axes._subplots.AxesSubplot at 0x26701bcc9c8>"
      ]
     },
     "execution_count": 15,
     "metadata": {},
     "output_type": "execute_result"
    },
    {
     "data": {
      "image/png": "[encoded data removed]",
      "text/plain": [
       "<Figure size 1080x360 with 1 Axes>"
      ]
     },
     "metadata": {
      "needs_background": "light"
     },
     "output_type": "display_data"
    }
   ],
   "source": [
    "df_patient['age'].value_counts().plot(kind='bar', figsize=(15,5))"
   ]
  },
  {
   "cell_type": "code",
   "execution_count": 16,
   "metadata": {},
   "outputs": [
    {
     "data": {
      "text/plain": [
       "<matplotlib.axes._subplots.AxesSubplot at 0x26701f332c8>"
      ]
     },
     "execution_count": 16,
     "metadata": {},
     "output_type": "execute_result"
    },
    {
     "data": {
      "image/png": "[encoded data removed]",
      "text/plain": [
       "<Figure size 1080x360 with 1 Axes>"
      ]
     },
     "metadata": {
      "needs_background": "light"
     },
     "output_type": "display_data"
    }
   ],
   "source": [
    "df_patient['state'].value_counts().nlargest(10).plot(kind='bar', figsize=(15,5))"
   ]
  },
  {
   "cell_type": "code",
   "execution_count": 17,
   "metadata": {},
   "outputs": [
    {
     "data": {
      "text/plain": [
       "29.0    1036\n",
       "31.0    1031\n",
       "30.0    1017\n",
       "28.0    1016\n",
       "32.0     959\n",
       "27.0     952\n",
       "33.0     900\n",
       "26.0     840\n",
       "25.0     725\n",
       "34.0     696\n",
       "24.0     666\n",
       "35.0     587\n",
       "23.0     576\n",
       "22.0     524\n",
       "36.0     508\n",
       "21.0     393\n",
       "37.0     387\n",
       "20.0     328\n",
       "38.0     289\n",
       "19.0     266\n",
       "12.0     259\n",
       "11.0     255\n",
       "9.0      252\n",
       "10.0     248\n",
       "39.0     239\n",
       "13.0     202\n",
       "8.0      180\n",
       "40.0     179\n",
       "7.0      128\n",
       "41.0     127\n",
       "42.0      64\n",
       "43.0      39\n",
       "6.0       31\n",
       "14.0      16\n",
       "44.0      16\n",
       "45.0      15\n",
       "4.0        7\n",
       "3.0        6\n",
       "15.0       6\n",
       "2.0        5\n",
       "5.0        4\n",
       "49.0       3\n",
       "83.0       3\n",
       "52.0       3\n",
       "47.0       3\n",
       "0.0        2\n",
       "92.0       2\n",
       "82.0       2\n",
       "46.0       2\n",
       "64.0       1\n",
       "48.0       1\n",
       "16.0       1\n",
       "1.0        1\n",
       "50.0       1\n",
       "74.0       1\n",
       "91.0       1\n",
       "62.0       1\n",
       "17.0       1\n",
       "Name: age, dtype: int64"
      ]
     },
     "execution_count": 17,
     "metadata": {},
     "output_type": "execute_result"
    }
   ],
   "source": [
    "df_patient['age'].value_counts()"
   ]
  },
  {
   "cell_type": "code",
   "execution_count": 18,
   "metadata": {},
   "outputs": [
    {
     "data": {
      "text/plain": [
       "nsw     6143\n",
       "vic     4352\n",
       "qld     3516\n",
       "wa      1580\n",
       "sa      1391\n",
       "        ... \n",
       "nsjw       1\n",
       "ng         1\n",
       "vif        1\n",
       "qlg        1\n",
       "vie        1\n",
       "Name: state, Length: 102, dtype: int64"
      ]
     },
     "execution_count": 18,
     "metadata": {},
     "output_type": "execute_result"
    }
   ],
   "source": [
    "df_patient['state'].value_counts()"
   ]
  },
  {
   "cell_type": "code",
   "execution_count": 19,
   "metadata": {},
   "outputs": [],
   "source": [
    "from rapidfuzz import process, utils\n",
    "# process.extract"
   ]
  },
  {
   "cell_type": "code",
   "execution_count": 20,
   "metadata": {},
   "outputs": [
    {
     "data": {
      "text/plain": [
       "12"
      ]
     },
     "execution_count": 20,
     "metadata": {},
     "output_type": "execute_result"
    }
   ],
   "source": [
    "r1 = df_patient.iloc[0]\n",
    "r2 = df_patient.iloc[0]\n",
    "r1.size"
   ]
  },
  {
   "cell_type": "code",
   "execution_count": 21,
   "metadata": {},
   "outputs": [
    {
     "name": "stdout",
     "output_type": "stream",
     "text": [
      "True\n"
     ]
    }
   ],
   "source": [
    "n_col = r1.size\n",
    "s = 0\n",
    "for i in range(1, n_col):\n",
    "    \n",
    "    s += fuzz.token_sort_ratio(str(r1[i]), str(r2[i]))\n",
    "    # s += fuzz.ratio(str(r1[i]), str(r2[i]))\n",
    "    # s += fuzz.token_sort_ratio(r1[i], r2[i])\n",
    "\n",
    "# at the end, the similarity will be averaged and return True if it is high enough\n",
    "print ((s / (n_col - 1)) > thr_similarity)"
   ]
  },
  {
   "cell_type": "code",
   "execution_count": 25,
   "metadata": {},
   "outputs": [
    {
     "name": "stdout",
     "output_type": "stream",
     "text": [
      "0\n",
      "1\n",
      "2\n",
      "3\n",
      "4\n",
      "5\n",
      "6\n",
      "7\n",
      "8\n",
      "9\n",
      "10\n",
      "11\n",
      "12\n",
      "13\n",
      "14\n",
      "15\n",
      "16\n",
      "17\n",
      "18\n",
      "19\n"
     ]
    },
    {
     "ename": "TypeError",
     "evalue": "list indices must be integers or slices, not tuple",
     "output_type": "error",
     "traceback": [
      "\u001b[1;31m---------------------------------------------------------------------------\u001b[0m",
      "\u001b[1;31mTypeError\u001b[0m                                 Traceback (most recent call last)",
      "\u001b[1;32m<ipython-input-25-8156ba3bc82d>\u001b[0m in \u001b[0;36m<module>\u001b[1;34m\u001b[0m\n\u001b[0;32m     28\u001b[0m \u001b[1;33m\u001b[0m\u001b[0m\n\u001b[0;32m     29\u001b[0m             \u001b[1;31m# add the ID to the list\u001b[0m\u001b[1;33m\u001b[0m\u001b[1;33m\u001b[0m\u001b[1;33m\u001b[0m\u001b[0m\n\u001b[1;32m---> 30\u001b[1;33m             \u001b[0ml_patient_id\u001b[0m\u001b[1;33m.\u001b[0m\u001b[0mappend\u001b[0m\u001b[1;33m(\u001b[0m\u001b[0mxx\u001b[0m\u001b[1;33m[\u001b[0m\u001b[0mindex2\u001b[0m\u001b[1;33m,\u001b[0m \u001b[1;36m0\u001b[0m\u001b[1;33m]\u001b[0m\u001b[1;33m)\u001b[0m\u001b[1;33m\u001b[0m\u001b[1;33m\u001b[0m\u001b[0m\n\u001b[0m\u001b[0;32m     31\u001b[0m \u001b[1;33m\u001b[0m\u001b[0m\n\u001b[0;32m     32\u001b[0m             \u001b[1;31m# add r2 to df_tmp\u001b[0m\u001b[1;33m\u001b[0m\u001b[1;33m\u001b[0m\u001b[1;33m\u001b[0m\u001b[0m\n",
      "\u001b[1;31mTypeError\u001b[0m: list indices must be integers or slices, not tuple"
     ]
    }
   ],
   "source": [
    "xx = df_patient.astype(str).values.tolist()\n",
    "list_df_pcr = df_pcr.astype(str).values.tolist()\n",
    "\n",
    "new_df = pd.DataFrame(columns=df_patient.columns)\n",
    "for index in range(0, len(xx)):\n",
    "    print(index)\n",
    "    r1 = xx[index]\n",
    "\n",
    "    # we checked this record\n",
    "#     df_p.at[index, 'checked'] = True\n",
    "\n",
    "    # create a temporary dataframe containing all similar records with r1\n",
    "#     df_tmp = pd.DataFrame(columns=df_p.columns)\n",
    "#     df_tmp = df_tmp.append(r1)\n",
    "    df_tmp = [r1]\n",
    "\n",
    "    # creating a list containing the ID ('patient_id') of all similar records\n",
    "    l_patient_id = [xx[index][0]]\n",
    "\n",
    "    # for index2, r2 in df_p.iterrows():\n",
    "    for index2 in range(index+1, len(xx)):\n",
    "\n",
    "        r2 = xx[index2]\n",
    "\n",
    "        # if it was not checked before\n",
    "        #if not df_p.at[index2, 'checked']:\n",
    "        #if is_same(r1, r2):  # if r1 and r2 are similar\n",
    "        if fuzz.token_sort_ratio(str(xx[index][1:]), str(xx[index2][1:])) > thr_similarity:\n",
    "            # we checked this record\n",
    "            #df_p.at[index2, 'checked'] = True\n",
    "\n",
    "            # add the ID to the list\n",
    "            l_patient_id.append(xx[index2][0])\n",
    "\n",
    "            # add r2 to df_tmp\n",
    "            df_tmp.append(r2)\n",
    "\n",
    "                # throw out the duplicate from main dataframe\n",
    "    #                     df_p.drop([index2])\n",
    "\n",
    "    # find the true pcr value for current record (from pcr data)\n",
    "    if df_pcr[df_pcr['patient_id'].isin(l_patient_id)].empty:\n",
    "        # if we did not find the patient pcr\n",
    "        pcr = 'NaN'\n",
    "        patient_id = l_patient_id[0]\n",
    "    elif len(l_patient_id) == 1:\n",
    "        # if we found the patient pcr but there is only one record id\n",
    "        pcr = df_pcr[df_pcr['patient_id'].isin(l_patient_id)].iloc[0]['pcr']\n",
    "        patient_id = l_patient_id[0]\n",
    "    else:\n",
    "        pcr = df_pcr[df_pcr['patient_id'].isin(l_patient_id)].mode().iloc[0]['pcr']\n",
    "        patient_id = df_pcr[(df_pcr['patient_id'].isin(l_patient_id)) & (df_pcr['pcr'] == pcr)].iloc[0, 0]\n",
    "\n",
    "    # now from all similar record, pick the most common one and replace it with r1 (delete r1 and add the most common one)\n",
    "    # adding_data = df_tmp.mode().iloc[0]\n",
    "    adding_data = pd.DataFrame (df_tmp,columns=df_patient.columns)\n",
    "    adding_data = adding_data.mode().iloc[0, :]\n",
    "    adding_data['pcr'] = pcr\n",
    "    adding_data['patient_id'] = patient_id\n",
    "\n",
    "    # df_p.drop([index])\n",
    "    new_df = new_df.append(adding_data)\n",
    "    # df_p.append(adding_data)\n",
    "\n",
    "# new_df.drop(columns=['checked'])\n",
    "new_df.reset_index(drop=True)"
   ]
  },
  {
   "cell_type": "code",
   "execution_count": 23,
   "metadata": {},
   "outputs": [
    {
     "data": {
      "text/plain": [
       "Index(['patient_id', 'given_name', 'surname', 'street_number', 'address_1',\n",
       "       'suburb', 'postcode', 'state', 'date_of_birth', 'age', 'phone_number',\n",
       "       'address_2'],\n",
       "      dtype='object')"
      ]
     },
     "execution_count": 23,
     "metadata": {},
     "output_type": "execute_result"
    }
   ],
   "source": [
    "df_patient.columns"
   ]
  },
  {
   "cell_type": "code",
   "execution_count": 28,
   "metadata": {},
   "outputs": [
    {
     "data": {
      "text/html": [
       "<div>\n",
       "<style scoped>\n",
       "    .dataframe tbody tr th:only-of-type {\n",
       "        vertical-align: middle;\n",
       "    }\n",
       "\n",
       "    .dataframe tbody tr th {\n",
       "        vertical-align: top;\n",
       "    }\n",
       "\n",
       "    .dataframe thead th {\n",
       "        text-align: right;\n",
       "    }\n",
       "</style>\n",
       "<table border=\"1\" class=\"dataframe\">\n",
       "  <thead>\n",
       "    <tr style=\"text-align: right;\">\n",
       "      <th></th>\n",
       "      <th>patient_id</th>\n",
       "      <th>given_name</th>\n",
       "      <th>surname</th>\n",
       "      <th>street_number</th>\n",
       "      <th>address_1</th>\n",
       "      <th>suburb</th>\n",
       "      <th>postcode</th>\n",
       "      <th>state</th>\n",
       "      <th>date_of_birth</th>\n",
       "      <th>age</th>\n",
       "      <th>phone_number</th>\n",
       "      <th>address_2</th>\n",
       "    </tr>\n",
       "  </thead>\n",
       "  <tbody>\n",
       "    <tr>\n",
       "      <th>539</th>\n",
       "      <td>200235</td>\n",
       "      <td>mitchell</td>\n",
       "      <td>stephenson</td>\n",
       "      <td>56.0</td>\n",
       "      <td>rosman circuit</td>\n",
       "      <td>eastwood</td>\n",
       "      <td>2539</td>\n",
       "      <td>sa</td>\n",
       "      <td>19328814.0</td>\n",
       "      <td>39.0</td>\n",
       "      <td>03 85151806</td>\n",
       "      <td>None</td>\n",
       "    </tr>\n",
       "    <tr>\n",
       "      <th>2465</th>\n",
       "      <td>246649</td>\n",
       "      <td>mitchell</td>\n",
       "      <td>stephenson</td>\n",
       "      <td>58.0</td>\n",
       "      <td>rosman circuit</td>\n",
       "      <td>eastwood</td>\n",
       "      <td>2539</td>\n",
       "      <td>sa</td>\n",
       "      <td>19320814.0</td>\n",
       "      <td>39.0</td>\n",
       "      <td>03 85151806</td>\n",
       "      <td>None</td>\n",
       "    </tr>\n",
       "    <tr>\n",
       "      <th>18111</th>\n",
       "      <td>258116</td>\n",
       "      <td>mitchell</td>\n",
       "      <td>stephenson</td>\n",
       "      <td>10.0</td>\n",
       "      <td>cumpston place</td>\n",
       "      <td>bonville</td>\n",
       "      <td>6415</td>\n",
       "      <td>qld</td>\n",
       "      <td>19590128.0</td>\n",
       "      <td>29.0</td>\n",
       "      <td>03 45750142</td>\n",
       "      <td>terranora</td>\n",
       "    </tr>\n",
       "  </tbody>\n",
       "</table>\n",
       "</div>"
      ],
      "text/plain": [
       "       patient_id given_name     surname  street_number       address_1  \\\n",
       "539        200235   mitchell  stephenson           56.0  rosman circuit   \n",
       "2465       246649   mitchell  stephenson           58.0  rosman circuit   \n",
       "18111      258116   mitchell  stephenson           10.0  cumpston place   \n",
       "\n",
       "         suburb postcode state  date_of_birth   age phone_number  address_2  \n",
       "539    eastwood     2539    sa     19328814.0  39.0  03 85151806       None  \n",
       "2465   eastwood     2539    sa     19320814.0  39.0  03 85151806       None  \n",
       "18111  bonville     6415   qld     19590128.0  29.0  03 45750142  terranora  "
      ]
     },
     "execution_count": 28,
     "metadata": {},
     "output_type": "execute_result"
    }
   ],
   "source": [
    "df_patient[(df_patient['surname']=='stephenson')&(df_patient['given_name']=='mitchell')]"
   ]
  },
  {
   "cell_type": "code",
   "execution_count": 46,
   "metadata": {},
   "outputs": [],
   "source": [
    "dict_df_pcr = df_pcr.set_index('patient_id')['pcr'].to_dict()"
   ]
  },
  {
   "cell_type": "code",
   "execution_count": 48,
   "metadata": {},
   "outputs": [
    {
     "data": {
      "text/plain": [
       "'N'"
      ]
     },
     "execution_count": 48,
     "metadata": {},
     "output_type": "execute_result"
    }
   ],
   "source": [
    "dict_df_pcr[653091]"
   ]
  },
  {
   "cell_type": "code",
   "execution_count": 49,
   "metadata": {},
   "outputs": [
    {
     "ename": "KeyError",
     "evalue": "1234",
     "output_type": "error",
     "traceback": [
      "\u001b[1;31m---------------------------------------------------------------------------\u001b[0m",
      "\u001b[1;31mKeyError\u001b[0m                                  Traceback (most recent call last)",
      "\u001b[1;32m<ipython-input-49-ccc6ecc4739d>\u001b[0m in \u001b[0;36m<module>\u001b[1;34m\u001b[0m\n\u001b[1;32m----> 1\u001b[1;33m \u001b[0mdict_df_pcr\u001b[0m\u001b[1;33m[\u001b[0m\u001b[1;36m1234\u001b[0m\u001b[1;33m]\u001b[0m\u001b[1;33m\u001b[0m\u001b[1;33m\u001b[0m\u001b[0m\n\u001b[0m",
      "\u001b[1;31mKeyError\u001b[0m: 1234"
     ]
    }
   ],
   "source": [
    "dict_df_pcr[1234]"
   ]
  },
  {
   "cell_type": "code",
   "execution_count": 51,
   "metadata": {},
   "outputs": [
    {
     "data": {
      "text/plain": [
       "True"
      ]
     },
     "execution_count": 51,
     "metadata": {},
     "output_type": "execute_result"
    }
   ],
   "source": [
    "653091 in dict_df_pcr"
   ]
  },
  {
   "cell_type": "code",
   "execution_count": 54,
   "metadata": {},
   "outputs": [
    {
     "name": "stdout",
     "output_type": "stream",
     "text": [
      "None\n"
     ]
    }
   ],
   "source": [
    "x_key = dict_df_pcr.get(12134)\n",
    "print(x_key)"
   ]
  },
  {
   "cell_type": "code",
   "execution_count": null,
   "metadata": {},
   "outputs": [],
   "source": []
  }
 ],
 "metadata": {
  "kernelspec": {
   "display_name": "Python 3",
   "language": "python",
   "name": "python3"
  },
  "language_info": {
   "codemirror_mode": {
    "name": "ipython",
    "version": 3
   },
   "file_extension": ".py",
   "mimetype": "text/x-python",
   "name": "python",
   "nbconvert_exporter": "python",
   "pygments_lexer": "ipython3",
   "version": "3.7.6"
  }
 },
 "nbformat": 4,
 "nbformat_minor": 4
}
